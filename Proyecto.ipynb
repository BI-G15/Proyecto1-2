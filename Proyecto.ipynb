{
  "cells": [
    {
      "cell_type": "markdown",
      "metadata": {
        "id": "xfLBFOycqSzw"
      },
      "source": [
        "# Proyecto 1"
      ]
    },
    {
      "cell_type": "markdown",
      "metadata": {
        "id": "nJNT8mpPqWp3"
      },
      "source": [
        "## Integrantes\n",
        "\n",
        "* Maria Paula Gonzalez Escallon \n",
        "* Jessica Alejandra Robles Moreno\n",
        "* Juan Esteban Vergara Ascencio"
      ]
    },
    {
      "cell_type": "markdown",
      "metadata": {
        "id": "v7XWcRaCqttj"
      },
      "source": [
        "## Importar"
      ]
    },
    {
      "cell_type": "code",
      "execution_count": 31,
      "metadata": {
        "id": "JOMXUuR3qgIO"
      },
      "outputs": [],
      "source": [
        "# Librerías para manejo de datos\n",
        "import pandas as pd\n",
        "pd.set_option('display.max_columns', 25) # Número máximo de columnas a mostrar\n",
        "pd.set_option('display.max_rows', 50) # Numero máximo de filas a mostar\n",
        "import numpy as np\n",
        "np.random.seed(3301)\n",
        "import pandas as pd\n",
        "# Para preparar los datos\n",
        "from sklearn.preprocessing import LabelEncoder\n",
        "\n",
        "from sklearn.feature_extraction.text import CountVectorizer\n",
        "from sklearn.svm import LinearSVC\n",
        "# Para realizar la separación del conjunto de aprendizaje en entrenamiento y test.\n",
        "from sklearn.model_selection import train_test_split\n",
        "# Para evaluar el modelo\n",
        "from sklearn.metrics import confusion_matrix, classification_report, precision_score, recall_score, f1_score, accuracy_score\n",
        "from sklearn.metrics import plot_confusion_matrix\n",
        "# Para búsqueda de hiperparámetros\n",
        "from sklearn.model_selection import GridSearchCV\n",
        "\n",
        "from sklearn.feature_extraction.text import TfidfVectorizer\n",
        "from sklearn.feature_extraction.text import TfidfTransformer\n",
        "from sklearn.naive_bayes import MultinomialNB\n",
        "from sklearn.pipeline import make_pipeline\n",
        "from sklearn.pipeline import Pipeline\n",
        "from sklearn.metrics import confusion_matrix, accuracy_score\n",
        "from sklearn.linear_model import SGDClassifier\n",
        "\n",
        "#Librerías para la visualización\n",
        "import matplotlib.pyplot as plt\n",
        "# Seaborn\n",
        "import seaborn as sns \n",
        "from sklearn import tree\n",
        "\n",
        "# Importar/ Exportar modelos\n",
        "from joblib import dump, load"
      ]
    },
    {
      "cell_type": "markdown",
      "metadata": {
        "id": "ILsXT537q-Py"
      },
      "source": [
        "## Carga de Datos"
      ]
    },
    {
      "cell_type": "code",
      "execution_count": 2,
      "metadata": {
        "id": "OjLUmsAsrI3X"
      },
      "outputs": [],
      "source": [
        "df_info=pd.read_csv('SuicidiosProyecto.csv', sep=',', decimal=',', encoding = 'utf-8', index_col=0)"
      ]
    },
    {
      "cell_type": "code",
      "execution_count": 3,
      "metadata": {
        "colab": {
          "base_uri": "https://localhost:8080/"
        },
        "id": "f1bc26f7-8b09-4d10-b97d-20ffd39f3a9c",
        "outputId": "adcdcc56-8824-4bf8-db5b-9961da3160d7"
      },
      "outputs": [
        {
          "output_type": "execute_result",
          "data": {
            "text/plain": [
              "(195700, 2)"
            ]
          },
          "metadata": {},
          "execution_count": 3
        }
      ],
      "source": [
        "df_info.shape"
      ]
    },
    {
      "cell_type": "code",
      "execution_count": 4,
      "metadata": {
        "colab": {
          "base_uri": "https://localhost:8080/",
          "height": 238
        },
        "id": "15eb91d4-8982-44b4-8942-8fd529409984",
        "outputId": "acc6f43d-f049-4414-cbbb-346561f2d913"
      },
      "outputs": [
        {
          "output_type": "execute_result",
          "data": {
            "text/plain": [
              "                                                         text        class\n",
              "Unnamed: 0                                                                \n",
              "173271      i want to destroy myselffor once everything wa...      suicide\n",
              "336321      I kinda got behind schedule with learning for ...  non-suicide\n",
              "256637      I'm just not sure anymoreFirst and foremost: I...      suicide\n",
              "303772      please give me a reason to liveThats too much ...      suicide\n",
              "293747      27f struggling to find meaning moving forwardI...      suicide"
            ],
            "text/html": [
              "\n",
              "  <div id=\"df-b073d925-aa79-49ca-b9f0-d5913bde3618\">\n",
              "    <div class=\"colab-df-container\">\n",
              "      <div>\n",
              "<style scoped>\n",
              "    .dataframe tbody tr th:only-of-type {\n",
              "        vertical-align: middle;\n",
              "    }\n",
              "\n",
              "    .dataframe tbody tr th {\n",
              "        vertical-align: top;\n",
              "    }\n",
              "\n",
              "    .dataframe thead th {\n",
              "        text-align: right;\n",
              "    }\n",
              "</style>\n",
              "<table border=\"1\" class=\"dataframe\">\n",
              "  <thead>\n",
              "    <tr style=\"text-align: right;\">\n",
              "      <th></th>\n",
              "      <th>text</th>\n",
              "      <th>class</th>\n",
              "    </tr>\n",
              "    <tr>\n",
              "      <th>Unnamed: 0</th>\n",
              "      <th></th>\n",
              "      <th></th>\n",
              "    </tr>\n",
              "  </thead>\n",
              "  <tbody>\n",
              "    <tr>\n",
              "      <th>173271</th>\n",
              "      <td>i want to destroy myselffor once everything wa...</td>\n",
              "      <td>suicide</td>\n",
              "    </tr>\n",
              "    <tr>\n",
              "      <th>336321</th>\n",
              "      <td>I kinda got behind schedule with learning for ...</td>\n",
              "      <td>non-suicide</td>\n",
              "    </tr>\n",
              "    <tr>\n",
              "      <th>256637</th>\n",
              "      <td>I'm just not sure anymoreFirst and foremost: I...</td>\n",
              "      <td>suicide</td>\n",
              "    </tr>\n",
              "    <tr>\n",
              "      <th>303772</th>\n",
              "      <td>please give me a reason to liveThats too much ...</td>\n",
              "      <td>suicide</td>\n",
              "    </tr>\n",
              "    <tr>\n",
              "      <th>293747</th>\n",
              "      <td>27f struggling to find meaning moving forwardI...</td>\n",
              "      <td>suicide</td>\n",
              "    </tr>\n",
              "  </tbody>\n",
              "</table>\n",
              "</div>\n",
              "      <button class=\"colab-df-convert\" onclick=\"convertToInteractive('df-b073d925-aa79-49ca-b9f0-d5913bde3618')\"\n",
              "              title=\"Convert this dataframe to an interactive table.\"\n",
              "              style=\"display:none;\">\n",
              "        \n",
              "  <svg xmlns=\"http://www.w3.org/2000/svg\" height=\"24px\"viewBox=\"0 0 24 24\"\n",
              "       width=\"24px\">\n",
              "    <path d=\"M0 0h24v24H0V0z\" fill=\"none\"/>\n",
              "    <path d=\"M18.56 5.44l.94 2.06.94-2.06 2.06-.94-2.06-.94-.94-2.06-.94 2.06-2.06.94zm-11 1L8.5 8.5l.94-2.06 2.06-.94-2.06-.94L8.5 2.5l-.94 2.06-2.06.94zm10 10l.94 2.06.94-2.06 2.06-.94-2.06-.94-.94-2.06-.94 2.06-2.06.94z\"/><path d=\"M17.41 7.96l-1.37-1.37c-.4-.4-.92-.59-1.43-.59-.52 0-1.04.2-1.43.59L10.3 9.45l-7.72 7.72c-.78.78-.78 2.05 0 2.83L4 21.41c.39.39.9.59 1.41.59.51 0 1.02-.2 1.41-.59l7.78-7.78 2.81-2.81c.8-.78.8-2.07 0-2.86zM5.41 20L4 18.59l7.72-7.72 1.47 1.35L5.41 20z\"/>\n",
              "  </svg>\n",
              "      </button>\n",
              "      \n",
              "  <style>\n",
              "    .colab-df-container {\n",
              "      display:flex;\n",
              "      flex-wrap:wrap;\n",
              "      gap: 12px;\n",
              "    }\n",
              "\n",
              "    .colab-df-convert {\n",
              "      background-color: #E8F0FE;\n",
              "      border: none;\n",
              "      border-radius: 50%;\n",
              "      cursor: pointer;\n",
              "      display: none;\n",
              "      fill: #1967D2;\n",
              "      height: 32px;\n",
              "      padding: 0 0 0 0;\n",
              "      width: 32px;\n",
              "    }\n",
              "\n",
              "    .colab-df-convert:hover {\n",
              "      background-color: #E2EBFA;\n",
              "      box-shadow: 0px 1px 2px rgba(60, 64, 67, 0.3), 0px 1px 3px 1px rgba(60, 64, 67, 0.15);\n",
              "      fill: #174EA6;\n",
              "    }\n",
              "\n",
              "    [theme=dark] .colab-df-convert {\n",
              "      background-color: #3B4455;\n",
              "      fill: #D2E3FC;\n",
              "    }\n",
              "\n",
              "    [theme=dark] .colab-df-convert:hover {\n",
              "      background-color: #434B5C;\n",
              "      box-shadow: 0px 1px 3px 1px rgba(0, 0, 0, 0.15);\n",
              "      filter: drop-shadow(0px 1px 2px rgba(0, 0, 0, 0.3));\n",
              "      fill: #FFFFFF;\n",
              "    }\n",
              "  </style>\n",
              "\n",
              "      <script>\n",
              "        const buttonEl =\n",
              "          document.querySelector('#df-b073d925-aa79-49ca-b9f0-d5913bde3618 button.colab-df-convert');\n",
              "        buttonEl.style.display =\n",
              "          google.colab.kernel.accessAllowed ? 'block' : 'none';\n",
              "\n",
              "        async function convertToInteractive(key) {\n",
              "          const element = document.querySelector('#df-b073d925-aa79-49ca-b9f0-d5913bde3618');\n",
              "          const dataTable =\n",
              "            await google.colab.kernel.invokeFunction('convertToInteractive',\n",
              "                                                     [key], {});\n",
              "          if (!dataTable) return;\n",
              "\n",
              "          const docLinkHtml = 'Like what you see? Visit the ' +\n",
              "            '<a target=\"_blank\" href=https://colab.research.google.com/notebooks/data_table.ipynb>data table notebook</a>'\n",
              "            + ' to learn more about interactive tables.';\n",
              "          element.innerHTML = '';\n",
              "          dataTable['output_type'] = 'display_data';\n",
              "          await google.colab.output.renderOutput(dataTable, element);\n",
              "          const docLink = document.createElement('div');\n",
              "          docLink.innerHTML = docLinkHtml;\n",
              "          element.appendChild(docLink);\n",
              "        }\n",
              "      </script>\n",
              "    </div>\n",
              "  </div>\n",
              "  "
            ]
          },
          "metadata": {},
          "execution_count": 4
        }
      ],
      "source": [
        "df_info.head()"
      ]
    },
    {
      "cell_type": "code",
      "execution_count": 5,
      "metadata": {
        "colab": {
          "base_uri": "https://localhost:8080/"
        },
        "id": "1ad8890f-d30b-432f-a95b-6aff13624977",
        "outputId": "7f0eeab8-f242-485f-e1d8-126765c91dbb"
      },
      "outputs": [
        {
          "output_type": "stream",
          "name": "stdout",
          "text": [
            "<class 'pandas.core.frame.DataFrame'>\n",
            "Int64Index: 195700 entries, 173271 to 305170\n",
            "Data columns (total 2 columns):\n",
            " #   Column  Non-Null Count   Dtype \n",
            "---  ------  --------------   ----- \n",
            " 0   text    195700 non-null  object\n",
            " 1   class   195700 non-null  object\n",
            "dtypes: object(2)\n",
            "memory usage: 4.5+ MB\n"
          ]
        }
      ],
      "source": [
        "df_info.info()"
      ]
    },
    {
      "cell_type": "code",
      "execution_count": 6,
      "metadata": {
        "colab": {
          "base_uri": "https://localhost:8080/"
        },
        "id": "7A2GViX_uj1K",
        "outputId": "3dc87338-3466-4527-ddcc-9cf32e5f4911"
      },
      "outputs": [
        {
          "output_type": "execute_result",
          "data": {
            "text/plain": [
              "non-suicide    110165\n",
              "suicide         85535\n",
              "Name: class, dtype: int64"
            ]
          },
          "metadata": {},
          "execution_count": 6
        }
      ],
      "source": [
        "df_info[\"class\"].value_counts()"
      ]
    },
    {
      "cell_type": "markdown",
      "metadata": {
        "id": "zF4fxAw5uZDB"
      },
      "source": [
        "## Limpieza de datos"
      ]
    },
    {
      "cell_type": "code",
      "execution_count": 7,
      "metadata": {
        "id": "scCYNtu_KyyQ"
      },
      "outputs": [],
      "source": [
        "df_copia=df_info.copy()"
      ]
    },
    {
      "cell_type": "code",
      "execution_count": 8,
      "metadata": {
        "id": "pcNELEXrKkEh"
      },
      "outputs": [],
      "source": [
        "def remove_punctuation(words):\n",
        "    \n",
        "    a_string = words\n",
        "    new_words  = a_string.replace('.', '')\n",
        "    new_words = new_words.replace(':','')\n",
        "    new_words = new_words.replace(',','')\n",
        "    new_words = new_words.replace(';','')\n",
        "    new_words = new_words.replace(\"'\",'')\n",
        "    #new_words = new_words.replace('filler','')\n",
        "    new_words = new_words.lower()\n",
        "    return new_words\n",
        "\n",
        "\n",
        "def preprocessing(words):\n",
        "    words = remove_punctuation(words)\n",
        "    return words"
      ]
    },
    {
      "cell_type": "code",
      "execution_count": 9,
      "metadata": {
        "id": "8wMmQ_Pmusce"
      },
      "outputs": [],
      "source": [
        "import string\n",
        "punctuation = set(string.punctuation)\n",
        "def tokenize(sentence):\n",
        "    tokens = []\n",
        "    for token in sentence.split():\n",
        "        new_token = []\n",
        "        for character in token:\n",
        "            if character not in punctuation:\n",
        "                new_token.append(character.lower())\n",
        "        if new_token:\n",
        "            tokens.append(\"\".join(new_token))\n",
        "    return tokens\n",
        "\n",
        "def tokenizer():\n",
        "  "
      ]
    },
    {
      "cell_type": "code",
      "execution_count": 11,
      "metadata": {
        "colab": {
          "base_uri": "https://localhost:8080/",
          "height": 238
        },
        "id": "iWS1JACuu42V",
        "outputId": "0559113f-5d8d-4c4b-83d4-5038015b1388"
      },
      "outputs": [
        {
          "output_type": "execute_result",
          "data": {
            "text/plain": [
              "                                                         text        class\n",
              "Unnamed: 0                                                                \n",
              "173271      i want to destroy myselffor once everything wa...      suicide\n",
              "336321      i kinda got behind schedule with learning for ...  non-suicide\n",
              "256637      im just not sure anymorefirst and foremost im ...      suicide\n",
              "303772      please give me a reason to livethats too much ...      suicide\n",
              "293747      27f struggling to find meaning moving forwardi...      suicide"
            ],
            "text/html": [
              "\n",
              "  <div id=\"df-885c3405-3192-443a-bb19-a58c0c77f4ef\">\n",
              "    <div class=\"colab-df-container\">\n",
              "      <div>\n",
              "<style scoped>\n",
              "    .dataframe tbody tr th:only-of-type {\n",
              "        vertical-align: middle;\n",
              "    }\n",
              "\n",
              "    .dataframe tbody tr th {\n",
              "        vertical-align: top;\n",
              "    }\n",
              "\n",
              "    .dataframe thead th {\n",
              "        text-align: right;\n",
              "    }\n",
              "</style>\n",
              "<table border=\"1\" class=\"dataframe\">\n",
              "  <thead>\n",
              "    <tr style=\"text-align: right;\">\n",
              "      <th></th>\n",
              "      <th>text</th>\n",
              "      <th>class</th>\n",
              "    </tr>\n",
              "    <tr>\n",
              "      <th>Unnamed: 0</th>\n",
              "      <th></th>\n",
              "      <th></th>\n",
              "    </tr>\n",
              "  </thead>\n",
              "  <tbody>\n",
              "    <tr>\n",
              "      <th>173271</th>\n",
              "      <td>i want to destroy myselffor once everything wa...</td>\n",
              "      <td>suicide</td>\n",
              "    </tr>\n",
              "    <tr>\n",
              "      <th>336321</th>\n",
              "      <td>i kinda got behind schedule with learning for ...</td>\n",
              "      <td>non-suicide</td>\n",
              "    </tr>\n",
              "    <tr>\n",
              "      <th>256637</th>\n",
              "      <td>im just not sure anymorefirst and foremost im ...</td>\n",
              "      <td>suicide</td>\n",
              "    </tr>\n",
              "    <tr>\n",
              "      <th>303772</th>\n",
              "      <td>please give me a reason to livethats too much ...</td>\n",
              "      <td>suicide</td>\n",
              "    </tr>\n",
              "    <tr>\n",
              "      <th>293747</th>\n",
              "      <td>27f struggling to find meaning moving forwardi...</td>\n",
              "      <td>suicide</td>\n",
              "    </tr>\n",
              "  </tbody>\n",
              "</table>\n",
              "</div>\n",
              "      <button class=\"colab-df-convert\" onclick=\"convertToInteractive('df-885c3405-3192-443a-bb19-a58c0c77f4ef')\"\n",
              "              title=\"Convert this dataframe to an interactive table.\"\n",
              "              style=\"display:none;\">\n",
              "        \n",
              "  <svg xmlns=\"http://www.w3.org/2000/svg\" height=\"24px\"viewBox=\"0 0 24 24\"\n",
              "       width=\"24px\">\n",
              "    <path d=\"M0 0h24v24H0V0z\" fill=\"none\"/>\n",
              "    <path d=\"M18.56 5.44l.94 2.06.94-2.06 2.06-.94-2.06-.94-.94-2.06-.94 2.06-2.06.94zm-11 1L8.5 8.5l.94-2.06 2.06-.94-2.06-.94L8.5 2.5l-.94 2.06-2.06.94zm10 10l.94 2.06.94-2.06 2.06-.94-2.06-.94-.94-2.06-.94 2.06-2.06.94z\"/><path d=\"M17.41 7.96l-1.37-1.37c-.4-.4-.92-.59-1.43-.59-.52 0-1.04.2-1.43.59L10.3 9.45l-7.72 7.72c-.78.78-.78 2.05 0 2.83L4 21.41c.39.39.9.59 1.41.59.51 0 1.02-.2 1.41-.59l7.78-7.78 2.81-2.81c.8-.78.8-2.07 0-2.86zM5.41 20L4 18.59l7.72-7.72 1.47 1.35L5.41 20z\"/>\n",
              "  </svg>\n",
              "      </button>\n",
              "      \n",
              "  <style>\n",
              "    .colab-df-container {\n",
              "      display:flex;\n",
              "      flex-wrap:wrap;\n",
              "      gap: 12px;\n",
              "    }\n",
              "\n",
              "    .colab-df-convert {\n",
              "      background-color: #E8F0FE;\n",
              "      border: none;\n",
              "      border-radius: 50%;\n",
              "      cursor: pointer;\n",
              "      display: none;\n",
              "      fill: #1967D2;\n",
              "      height: 32px;\n",
              "      padding: 0 0 0 0;\n",
              "      width: 32px;\n",
              "    }\n",
              "\n",
              "    .colab-df-convert:hover {\n",
              "      background-color: #E2EBFA;\n",
              "      box-shadow: 0px 1px 2px rgba(60, 64, 67, 0.3), 0px 1px 3px 1px rgba(60, 64, 67, 0.15);\n",
              "      fill: #174EA6;\n",
              "    }\n",
              "\n",
              "    [theme=dark] .colab-df-convert {\n",
              "      background-color: #3B4455;\n",
              "      fill: #D2E3FC;\n",
              "    }\n",
              "\n",
              "    [theme=dark] .colab-df-convert:hover {\n",
              "      background-color: #434B5C;\n",
              "      box-shadow: 0px 1px 3px 1px rgba(0, 0, 0, 0.15);\n",
              "      filter: drop-shadow(0px 1px 2px rgba(0, 0, 0, 0.3));\n",
              "      fill: #FFFFFF;\n",
              "    }\n",
              "  </style>\n",
              "\n",
              "      <script>\n",
              "        const buttonEl =\n",
              "          document.querySelector('#df-885c3405-3192-443a-bb19-a58c0c77f4ef button.colab-df-convert');\n",
              "        buttonEl.style.display =\n",
              "          google.colab.kernel.accessAllowed ? 'block' : 'none';\n",
              "\n",
              "        async function convertToInteractive(key) {\n",
              "          const element = document.querySelector('#df-885c3405-3192-443a-bb19-a58c0c77f4ef');\n",
              "          const dataTable =\n",
              "            await google.colab.kernel.invokeFunction('convertToInteractive',\n",
              "                                                     [key], {});\n",
              "          if (!dataTable) return;\n",
              "\n",
              "          const docLinkHtml = 'Like what you see? Visit the ' +\n",
              "            '<a target=\"_blank\" href=https://colab.research.google.com/notebooks/data_table.ipynb>data table notebook</a>'\n",
              "            + ' to learn more about interactive tables.';\n",
              "          element.innerHTML = '';\n",
              "          dataTable['output_type'] = 'display_data';\n",
              "          await google.colab.output.renderOutput(dataTable, element);\n",
              "          const docLink = document.createElement('div');\n",
              "          docLink.innerHTML = docLinkHtml;\n",
              "          element.appendChild(docLink);\n",
              "        }\n",
              "      </script>\n",
              "    </div>\n",
              "  </div>\n",
              "  "
            ]
          },
          "metadata": {},
          "execution_count": 11
        }
      ],
      "source": [
        "df_copia.head()"
      ]
    },
    {
      "cell_type": "markdown",
      "metadata": {
        "id": "l22ibw4sdzHz"
      },
      "source": [
        "## Sin limpieza"
      ]
    },
    {
      "cell_type": "code",
      "execution_count": null,
      "metadata": {
        "colab": {
          "base_uri": "https://localhost:8080/"
        },
        "id": "C_rsT_MqwMbk",
        "outputId": "27a2ff08-9555-4c78-9772-2217d7f689ed"
      },
      "outputs": [
        {
          "name": "stdout",
          "output_type": "stream",
          "text": [
            "Training examples: 146775, testing examples 48925\n"
          ]
        }
      ],
      "source": [
        "train_text, test_text, train_labels, test_labels = train_test_split(df_info[\"text\"], df_info[\"class\"], stratify=df_info[\"class\"])\n",
        "print(f\"Training examples: {len(train_text)}, testing examples {len(test_text)}\")"
      ]
    },
    {
      "cell_type": "code",
      "execution_count": null,
      "metadata": {
        "id": "QRM65JmMwcTi"
      },
      "outputs": [],
      "source": [
        "real_vectorizer = CountVectorizer(tokenizer = tokenize, binary=True)\n",
        "train_X = real_vectorizer.fit_transform(train_text)\n",
        "test_X = real_vectorizer.transform(test_text)"
      ]
    },
    {
      "cell_type": "markdown",
      "metadata": {
        "id": "LEjBeVUueEEb"
      },
      "source": [
        "### LinearSVC"
      ]
    },
    {
      "cell_type": "code",
      "execution_count": null,
      "metadata": {
        "colab": {
          "base_uri": "https://localhost:8080/"
        },
        "id": "3YqcD6jawddi",
        "outputId": "b3050bd4-8674-4658-a8bd-019e8fb4c0ab"
      },
      "outputs": [
        {
          "name": "stderr",
          "output_type": "stream",
          "text": [
            "/Users/mau/opt/anaconda3/lib/python3.9/site-packages/sklearn/svm/_base.py:1206: ConvergenceWarning: Liblinear failed to converge, increase the number of iterations.\n",
            "  warnings.warn(\n"
          ]
        },
        {
          "data": {
            "text/plain": [
              "LinearSVC()"
            ]
          },
          "execution_count": 14,
          "metadata": {},
          "output_type": "execute_result"
        }
      ],
      "source": [
        "classifier = LinearSVC()\n",
        "classifier = classifier.fit(train_X, train_labels)\n",
        "LinearSVC(C=1.0, class_weight=None, dual=True, fit_intercept=True,\n",
        "          intercept_scaling=1, loss='squared_hinge', max_iter=1000,\n",
        "          multi_class='ovr', penalty='l2', random_state=None, tol=0.0001,\n",
        "          verbose=0)"
      ]
    },
    {
      "cell_type": "code",
      "execution_count": null,
      "metadata": {
        "colab": {
          "base_uri": "https://localhost:8080/"
        },
        "id": "9R5mxgMeE8c5",
        "outputId": "822d5cf6-4b49-4882-ace9-88a6a15d48b9"
      },
      "outputs": [
        {
          "name": "stdout",
          "output_type": "stream",
          "text": [
            "Train accuracy: 99.7200%\n"
          ]
        }
      ],
      "source": [
        "predicciones_train = classifier.predict(train_X)\n",
        "accuracy = accuracy_score(train_labels, predicciones_train)\n",
        "print(f\"Train accuracy: {accuracy:.4%}\")"
      ]
    },
    {
      "cell_type": "code",
      "execution_count": null,
      "metadata": {
        "colab": {
          "base_uri": "https://localhost:8080/"
        },
        "id": "jP8WtjytEZW9",
        "outputId": "02a19930-cdf9-4330-a7be-13fbe3338ffd"
      },
      "outputs": [
        {
          "name": "stdout",
          "output_type": "stream",
          "text": [
            "Test accuracy: 93.4410%\n"
          ]
        }
      ],
      "source": [
        "predicciones_test = classifier.predict(test_X)\n",
        "accuracy = accuracy_score(test_labels, predicciones_test)\n",
        "print(f\"Test accuracy: {accuracy:.4%}\")"
      ]
    },
    {
      "cell_type": "code",
      "execution_count": null,
      "metadata": {
        "colab": {
          "base_uri": "https://localhost:8080/"
        },
        "id": "mFvOdj26xnqU",
        "outputId": "514be3d8-a76d-49ba-899b-990d77dfda2b"
      },
      "outputs": [
        {
          "data": {
            "text/plain": [
              "array([[26589,   952],\n",
              "       [ 2257, 19127]])"
            ]
          },
          "execution_count": 17,
          "metadata": {},
          "output_type": "execute_result"
        }
      ],
      "source": [
        "# Se genera la matriz de confusión\n",
        "confusion_matrix(test_labels, predicciones_test)"
      ]
    },
    {
      "cell_type": "code",
      "execution_count": null,
      "metadata": {
        "colab": {
          "base_uri": "https://localhost:8080/",
          "height": 334
        },
        "id": "aPmUJOk8xnqU",
        "outputId": "70ff39fc-6b82-43f7-b197-d324d0628dc4"
      },
      "outputs": [
        {
          "name": "stderr",
          "output_type": "stream",
          "text": [
            "/Users/mau/opt/anaconda3/lib/python3.9/site-packages/sklearn/utils/deprecation.py:87: FutureWarning: Function plot_confusion_matrix is deprecated; Function `plot_confusion_matrix` is deprecated in 1.0 and will be removed in 1.2. Use one of the class methods: ConfusionMatrixDisplay.from_predictions or ConfusionMatrixDisplay.from_estimator.\n",
            "  warnings.warn(msg, category=FutureWarning)\n"
          ]
        },
        {
          "data": {
            "image/png": "[encoded data removed]",
            "text/plain": [
              "<Figure size 432x288 with 2 Axes>"
            ]
          },
          "metadata": {
            "needs_background": "light"
          },
          "output_type": "display_data"
        }
      ],
      "source": [
        "# Se puede visualizar la matriz de confusión\n",
        "plot_confusion_matrix(classifier, test_X, test_labels)  \n",
        "plt.show()"
      ]
    },
    {
      "cell_type": "code",
      "execution_count": null,
      "metadata": {
        "colab": {
          "base_uri": "https://localhost:8080/"
        },
        "id": "fUc64eooxnqV",
        "outputId": "9c45294d-5512-409e-92b1-2888df5a10ff"
      },
      "outputs": [
        {
          "name": "stdout",
          "output_type": "stream",
          "text": [
            "              precision    recall  f1-score   support\n",
            "\n",
            " non-suicide       0.92      0.97      0.94     27541\n",
            "     suicide       0.95      0.89      0.92     21384\n",
            "\n",
            "    accuracy                           0.93     48925\n",
            "   macro avg       0.94      0.93      0.93     48925\n",
            "weighted avg       0.94      0.93      0.93     48925\n",
            "\n",
            "Exactitud: 0.9344\n"
          ]
        }
      ],
      "source": [
        "# Mostrar reporte de clasificación\n",
        "print(classification_report(test_labels, predicciones_test))\n",
        "print('Exactitud: %.4f' % accuracy_score(test_labels, predicciones_test))"
      ]
    },
    {
      "cell_type": "markdown",
      "metadata": {
        "id": "pw3jfweJeyY3"
      },
      "source": [
        "### Naive Bayers"
      ]
    },
    {
      "cell_type": "markdown",
      "metadata": {
        "id": "g5Sm7FBBe20d"
      },
      "source": [
        "#### Con Pipeline"
      ]
    },
    {
      "cell_type": "code",
      "execution_count": null,
      "metadata": {
        "id": "cuOr7DaF0g74",
        "outputId": "10b43947-4128-4010-f708-9d640e4973e0"
      },
      "outputs": [
        {
          "data": {
            "text/plain": [
              "Pipeline(steps=[('tfidfvectorizer',\n",
              "                 TfidfVectorizer(binary=True,\n",
              "                                 tokenizer=<function tokenize at 0x7faf001d8e50>)),\n",
              "                ('multinomialnb', MultinomialNB())])"
            ]
          },
          "execution_count": 20,
          "metadata": {},
          "output_type": "execute_result"
        }
      ],
      "source": [
        "# Model building\n",
        "model = make_pipeline(TfidfVectorizer(tokenizer = tokenize, binary=True), MultinomialNB())\n",
        "# Training the model with the training data\n",
        "model.fit(train_text, train_labels)"
      ]
    },
    {
      "cell_type": "code",
      "execution_count": null,
      "metadata": {
        "colab": {
          "base_uri": "https://localhost:8080/"
        },
        "id": "H6L0XlxbfJnQ",
        "outputId": "822d5cf6-4b49-4882-ace9-88a6a15d48b9"
      },
      "outputs": [
        {
          "name": "stdout",
          "output_type": "stream",
          "text": [
            "Train accuracy: 92.2507%\n"
          ]
        }
      ],
      "source": [
        "predicciones_train = model.predict(train_text)\n",
        "accuracy = accuracy_score(train_labels, predicciones_train)\n",
        "print(f\"Train accuracy: {accuracy:.4%}\")"
      ]
    },
    {
      "cell_type": "code",
      "execution_count": null,
      "metadata": {
        "colab": {
          "base_uri": "https://localhost:8080/"
        },
        "id": "0VMx94C4fJnh",
        "outputId": "02a19930-cdf9-4330-a7be-13fbe3338ffd"
      },
      "outputs": [
        {
          "name": "stdout",
          "output_type": "stream",
          "text": [
            "Test accuracy: 90.7675%\n"
          ]
        }
      ],
      "source": [
        "predicciones_test = model.predict(test_text)\n",
        "accuracy = accuracy_score(test_labels, predicciones_test)\n",
        "print(f\"Test accuracy: {accuracy:.4%}\")"
      ]
    },
    {
      "cell_type": "markdown",
      "metadata": {
        "id": "FoFxlZcbfScI"
      },
      "source": [
        "#### Sin Pipeline"
      ]
    },
    {
      "cell_type": "code",
      "execution_count": null,
      "metadata": {
        "id": "9MayJXkOEBNM"
      },
      "outputs": [],
      "source": [
        "classifier2 = MultinomialNB()\n",
        "classifier2 = classifier2.fit(train_X, train_labels)"
      ]
    },
    {
      "cell_type": "code",
      "execution_count": null,
      "metadata": {
        "colab": {
          "base_uri": "https://localhost:8080/"
        },
        "id": "b9u7Yi7ZfjeE",
        "outputId": "822d5cf6-4b49-4882-ace9-88a6a15d48b9"
      },
      "outputs": [
        {
          "name": "stdout",
          "output_type": "stream",
          "text": [
            "Train accuracy: 93.2625%\n"
          ]
        }
      ],
      "source": [
        "predicciones_train = classifier2.predict(train_X)\n",
        "accuracy = accuracy_score(train_labels, predicciones_train)\n",
        "print(f\"Train accuracy: {accuracy:.4%}\")"
      ]
    },
    {
      "cell_type": "code",
      "execution_count": null,
      "metadata": {
        "colab": {
          "base_uri": "https://localhost:8080/"
        },
        "id": "a-CZOmwxfjeF",
        "outputId": "02a19930-cdf9-4330-a7be-13fbe3338ffd"
      },
      "outputs": [
        {
          "name": "stdout",
          "output_type": "stream",
          "text": [
            "Test accuracy: 92.3311%\n"
          ]
        }
      ],
      "source": [
        "predicciones_test = classifier2.predict(test_X)\n",
        "accuracy = accuracy_score(test_labels, predicciones_test)\n",
        "print(f\"Test accuracy: {accuracy:.4%}\")"
      ]
    },
    {
      "cell_type": "code",
      "execution_count": null,
      "metadata": {
        "colab": {
          "base_uri": "https://localhost:8080/"
        },
        "id": "N66c7oxCfu_C",
        "outputId": "514be3d8-a76d-49ba-899b-990d77dfda2b"
      },
      "outputs": [
        {
          "data": {
            "text/plain": [
              "array([[24975,  2566],\n",
              "       [ 1186, 20198]])"
            ]
          },
          "execution_count": 26,
          "metadata": {},
          "output_type": "execute_result"
        }
      ],
      "source": [
        "# Se genera la matriz de confusión\n",
        "confusion_matrix(test_labels, predicciones_test)"
      ]
    },
    {
      "cell_type": "code",
      "execution_count": null,
      "metadata": {
        "colab": {
          "base_uri": "https://localhost:8080/",
          "height": 334
        },
        "id": "RqH8Zfgqfu_D",
        "outputId": "70ff39fc-6b82-43f7-b197-d324d0628dc4"
      },
      "outputs": [
        {
          "name": "stderr",
          "output_type": "stream",
          "text": [
            "/Users/mau/opt/anaconda3/lib/python3.9/site-packages/sklearn/utils/deprecation.py:87: FutureWarning: Function plot_confusion_matrix is deprecated; Function `plot_confusion_matrix` is deprecated in 1.0 and will be removed in 1.2. Use one of the class methods: ConfusionMatrixDisplay.from_predictions or ConfusionMatrixDisplay.from_estimator.\n",
            "  warnings.warn(msg, category=FutureWarning)\n"
          ]
        },
        {
          "data": {
            "image/png": "[encoded data removed]",
            "text/plain": [
              "<Figure size 432x288 with 2 Axes>"
            ]
          },
          "metadata": {
            "needs_background": "light"
          },
          "output_type": "display_data"
        }
      ],
      "source": [
        "# Se puede visualizar la matriz de confusión\n",
        "plot_confusion_matrix(classifier, test_X, test_labels)  \n",
        "plt.show()"
      ]
    },
    {
      "cell_type": "code",
      "execution_count": null,
      "metadata": {
        "colab": {
          "base_uri": "https://localhost:8080/"
        },
        "id": "zv4qmIU8fu_D",
        "outputId": "9c45294d-5512-409e-92b1-2888df5a10ff"
      },
      "outputs": [
        {
          "name": "stdout",
          "output_type": "stream",
          "text": [
            "              precision    recall  f1-score   support\n",
            "\n",
            " non-suicide       0.95      0.91      0.93     27541\n",
            "     suicide       0.89      0.94      0.92     21384\n",
            "\n",
            "    accuracy                           0.92     48925\n",
            "   macro avg       0.92      0.93      0.92     48925\n",
            "weighted avg       0.93      0.92      0.92     48925\n",
            "\n",
            "Exactitud: 0.9233\n"
          ]
        }
      ],
      "source": [
        "# Mostrar reporte de clasificación\n",
        "print(classification_report(test_labels, predicciones_test))\n",
        "print('Exactitud: %.4f' % accuracy_score(test_labels, predicciones_test))"
      ]
    },
    {
      "cell_type": "markdown",
      "metadata": {
        "id": "pDYmIJVvf38n"
      },
      "source": [
        "### SDGClassifier"
      ]
    },
    {
      "cell_type": "markdown",
      "metadata": {
        "id": "Cj9borE4f6sX"
      },
      "source": [
        "#### Con Pipeline"
      ]
    },
    {
      "cell_type": "code",
      "execution_count": null,
      "metadata": {
        "id": "wCzdm1Y6CBW_"
      },
      "outputs": [],
      "source": [
        "text_clf = Pipeline([('vect', CountVectorizer(tokenizer = tokenize, binary=True)),('tfidf', TfidfTransformer()),('clf', SGDClassifier(loss='hinge', penalty='l2',alpha=1e-3, random_state=42,max_iter=5, tol=None)),])"
      ]
    },
    {
      "cell_type": "code",
      "execution_count": null,
      "metadata": {
        "colab": {
          "base_uri": "https://localhost:8080/"
        },
        "id": "TVm0z-EwCe2A",
        "outputId": "f1951383-53e9-4cef-f6e2-8d797f0657d0"
      },
      "outputs": [
        {
          "data": {
            "text/plain": [
              "Pipeline(steps=[('vect',\n",
              "                 CountVectorizer(binary=True,\n",
              "                                 tokenizer=<function tokenize at 0x7faf001d8e50>)),\n",
              "                ('tfidf', TfidfTransformer()),\n",
              "                ('clf',\n",
              "                 SGDClassifier(alpha=0.001, max_iter=5, random_state=42,\n",
              "                               tol=None))])"
            ]
          },
          "execution_count": 30,
          "metadata": {},
          "output_type": "execute_result"
        }
      ],
      "source": [
        "text_clf.fit(train_text, train_labels)"
      ]
    },
    {
      "cell_type": "code",
      "execution_count": null,
      "metadata": {
        "colab": {
          "base_uri": "https://localhost:8080/"
        },
        "id": "X2VY26oYgKpi",
        "outputId": "822d5cf6-4b49-4882-ace9-88a6a15d48b9"
      },
      "outputs": [
        {
          "name": "stdout",
          "output_type": "stream",
          "text": [
            "Train accuracy: 89.4301%\n"
          ]
        }
      ],
      "source": [
        "predicciones_train = text_clf.predict(train_text)\n",
        "accuracy = accuracy_score(train_labels, predicciones_train)\n",
        "print(f\"Train accuracy: {accuracy:.4%}\")"
      ]
    },
    {
      "cell_type": "code",
      "execution_count": null,
      "metadata": {
        "colab": {
          "base_uri": "https://localhost:8080/"
        },
        "id": "UAgqu0eFgKpi",
        "outputId": "02a19930-cdf9-4330-a7be-13fbe3338ffd"
      },
      "outputs": [
        {
          "name": "stdout",
          "output_type": "stream",
          "text": [
            "Test accuracy: 90.0991%\n"
          ]
        }
      ],
      "source": [
        "predicciones_test = text_clf.predict(test_text)\n",
        "accuracy = accuracy_score(test_labels, predicciones_test)\n",
        "print(f\"Test accuracy: {accuracy:.4%}\")"
      ]
    },
    {
      "cell_type": "markdown",
      "metadata": {
        "id": "riPJ6RjXgKpj"
      },
      "source": [
        "#### Sin Pipeline"
      ]
    },
    {
      "cell_type": "code",
      "execution_count": null,
      "metadata": {
        "id": "l8XGvUbBHZ1m"
      },
      "outputs": [],
      "source": [
        "classifier3 = SGDClassifier(loss='hinge', penalty='l2',alpha=1e-3, random_state=42,max_iter=5, tol=None)\n",
        "classifier3 = classifier3.fit(train_X, train_labels)"
      ]
    },
    {
      "cell_type": "code",
      "execution_count": null,
      "metadata": {
        "colab": {
          "base_uri": "https://localhost:8080/"
        },
        "id": "bLiCFZagHZ1n",
        "outputId": "45707a13-f8cc-407c-a4f5-fffecf00065f"
      },
      "outputs": [
        {
          "name": "stdout",
          "output_type": "stream",
          "text": [
            "Train accuracy: 93.1358%\n"
          ]
        }
      ],
      "source": [
        "predicciones_train = classifier3.predict(train_X)\n",
        "accuracy = accuracy_score(train_labels, predicciones_train)\n",
        "print(f\"Train accuracy: {accuracy:.4%}\")"
      ]
    },
    {
      "cell_type": "code",
      "execution_count": null,
      "metadata": {
        "colab": {
          "base_uri": "https://localhost:8080/"
        },
        "id": "6L9Wnyn0HZ1p",
        "outputId": "a954feb4-2039-4ef1-a19c-708d34b4352f"
      },
      "outputs": [
        {
          "name": "stdout",
          "output_type": "stream",
          "text": [
            "Test accuracy: 92.5376%\n"
          ]
        }
      ],
      "source": [
        "predicciones_test = classifier3.predict(test_X)\n",
        "accuracy = accuracy_score(test_labels, predicciones_test)\n",
        "print(f\"Test accuracy: {accuracy:.4%}\")"
      ]
    },
    {
      "cell_type": "code",
      "execution_count": null,
      "metadata": {
        "colab": {
          "base_uri": "https://localhost:8080/"
        },
        "id": "ufA9hCWRJABt",
        "outputId": "357ccfa2-d78b-4ff3-9ad6-4a4b246d87c8"
      },
      "outputs": [
        {
          "data": {
            "text/plain": [
              "array([[26570,   971],\n",
              "       [ 2680, 18704]])"
            ]
          },
          "execution_count": 36,
          "metadata": {},
          "output_type": "execute_result"
        }
      ],
      "source": [
        "# Se genera la matriz de confusión\n",
        "confusion_matrix(test_labels, predicciones_test)"
      ]
    },
    {
      "cell_type": "code",
      "execution_count": null,
      "metadata": {
        "colab": {
          "base_uri": "https://localhost:8080/",
          "height": 334
        },
        "id": "UVKpRRgvJAB1",
        "outputId": "cf8c1e33-753d-481f-90d7-37427c2e7f92"
      },
      "outputs": [
        {
          "name": "stderr",
          "output_type": "stream",
          "text": [
            "/Users/mau/opt/anaconda3/lib/python3.9/site-packages/sklearn/utils/deprecation.py:87: FutureWarning: Function plot_confusion_matrix is deprecated; Function `plot_confusion_matrix` is deprecated in 1.0 and will be removed in 1.2. Use one of the class methods: ConfusionMatrixDisplay.from_predictions or ConfusionMatrixDisplay.from_estimator.\n",
            "  warnings.warn(msg, category=FutureWarning)\n"
          ]
        },
        {
          "data": {
            "image/png": "[encoded data removed]",
            "text/plain": [
              "<Figure size 432x288 with 2 Axes>"
            ]
          },
          "metadata": {
            "needs_background": "light"
          },
          "output_type": "display_data"
        }
      ],
      "source": [
        "# Se puede visualizar la matriz de confusión\n",
        "plot_confusion_matrix(classifier3, test_X, test_labels)  \n",
        "plt.show()"
      ]
    },
    {
      "cell_type": "code",
      "execution_count": null,
      "metadata": {
        "colab": {
          "base_uri": "https://localhost:8080/"
        },
        "id": "vnJXcsaJHZ1v",
        "outputId": "a207fca3-d566-4499-d2d8-364ec69d5ad9"
      },
      "outputs": [
        {
          "name": "stdout",
          "output_type": "stream",
          "text": [
            "              precision    recall  f1-score   support\n",
            "\n",
            " non-suicide       0.91      0.96      0.94     27541\n",
            "     suicide       0.95      0.87      0.91     21384\n",
            "\n",
            "    accuracy                           0.93     48925\n",
            "   macro avg       0.93      0.92      0.92     48925\n",
            "weighted avg       0.93      0.93      0.92     48925\n",
            "\n",
            "Exactitud: 0.9254\n"
          ]
        }
      ],
      "source": [
        "# Mostrar reporte de clasificación\n",
        "print(classification_report(test_labels, predicciones_test))\n",
        "print('Exactitud: %.4f' % accuracy_score(test_labels, predicciones_test))"
      ]
    },
    {
      "cell_type": "markdown",
      "metadata": {
        "id": "zCsVeZaUiKnn"
      },
      "source": [
        "## Con limpieza"
      ]
    },
    {
      "cell_type": "code",
      "execution_count": 52,
      "metadata": {
        "colab": {
          "base_uri": "https://localhost:8080/"
        },
        "id": "b6yJx2VZiYc7",
        "outputId": "fb6afd32-38be-4714-cd9e-f59da9a3eac4"
      },
      "outputs": [
        {
          "output_type": "stream",
          "name": "stdout",
          "text": [
            "Training examples: 146775, testing examples 48925\n"
          ]
        }
      ],
      "source": [
        "train_text, test_text, train_labels, test_labels = train_test_split(df_copia[\"text\"], df_copia[\"class\"], stratify=df_copia[\"class\"])\n",
        "print(f\"Training examples: {len(train_text)}, testing examples {len(test_text)}\")"
      ]
    },
    {
      "cell_type": "code",
      "execution_count": 13,
      "metadata": {
        "id": "9QggjDtriYc7"
      },
      "outputs": [],
      "source": [
        "real_vectorizer = CountVectorizer(tokenizer = tokenize, binary=True)\n",
        "train_X = real_vectorizer.fit_transform(train_text)\n",
        "test_X = real_vectorizer.transform(test_text)"
      ]
    },
    {
      "cell_type": "markdown",
      "metadata": {
        "id": "C2fI-SP8iYc7"
      },
      "source": [
        "### LinearSVC"
      ]
    },
    {
      "cell_type": "markdown",
      "source": [
        "#### Sin Pipeline"
      ],
      "metadata": {
        "id": "gpcWtH-_ITKM"
      }
    },
    {
      "cell_type": "code",
      "execution_count": 14,
      "metadata": {
        "colab": {
          "base_uri": "https://localhost:8080/"
        },
        "id": "uVnEwr92iYc7",
        "outputId": "80355b23-4303-4a3c-f8f2-c719a6bf1dc5"
      },
      "outputs": [
        {
          "output_type": "stream",
          "name": "stderr",
          "text": [
            "/usr/local/lib/python3.7/dist-packages/sklearn/svm/_base.py:1208: ConvergenceWarning: Liblinear failed to converge, increase the number of iterations.\n",
            "  ConvergenceWarning,\n"
          ]
        },
        {
          "output_type": "execute_result",
          "data": {
            "text/plain": [
              "LinearSVC()"
            ]
          },
          "metadata": {},
          "execution_count": 14
        }
      ],
      "source": [
        "classifier = LinearSVC()\n",
        "classifier = classifier.fit(train_X, train_labels)\n",
        "LinearSVC(C=1.0, class_weight=None, dual=True, fit_intercept=True,\n",
        "          intercept_scaling=1, loss='squared_hinge', max_iter=1000,\n",
        "          multi_class='ovr', penalty='l2', random_state=None, tol=0.0001,\n",
        "          verbose=0)"
      ]
    },
    {
      "cell_type": "code",
      "execution_count": 15,
      "metadata": {
        "colab": {
          "base_uri": "https://localhost:8080/"
        },
        "id": "taCoqteyiYc7",
        "outputId": "49f2f925-9c46-4923-8c9c-6170993d3cd9"
      },
      "outputs": [
        {
          "output_type": "stream",
          "name": "stdout",
          "text": [
            "Train accuracy: 99.7200%\n"
          ]
        }
      ],
      "source": [
        "predicciones_train = classifier.predict(train_X)\n",
        "accuracy = accuracy_score(train_labels, predicciones_train)\n",
        "print(f\"Train accuracy: {accuracy:.4%}\")"
      ]
    },
    {
      "cell_type": "code",
      "execution_count": 16,
      "metadata": {
        "colab": {
          "base_uri": "https://localhost:8080/"
        },
        "id": "wmWoyQgJiYc8",
        "outputId": "e58cdf97-33ad-4765-b683-8be39b4336f6"
      },
      "outputs": [
        {
          "output_type": "stream",
          "name": "stdout",
          "text": [
            "Test accuracy: 93.4410%\n"
          ]
        }
      ],
      "source": [
        "predicciones_test = classifier.predict(test_X)\n",
        "accuracy = accuracy_score(test_labels, predicciones_test)\n",
        "print(f\"Test accuracy: {accuracy:.4%}\")"
      ]
    },
    {
      "cell_type": "code",
      "execution_count": 17,
      "metadata": {
        "colab": {
          "base_uri": "https://localhost:8080/"
        },
        "id": "gjyvhi_wiYc8",
        "outputId": "25ab4f58-77a8-4357-8e37-cf5f10c8e043"
      },
      "outputs": [
        {
          "output_type": "execute_result",
          "data": {
            "text/plain": [
              "array([[26589,   952],\n",
              "       [ 2257, 19127]])"
            ]
          },
          "metadata": {},
          "execution_count": 17
        }
      ],
      "source": [
        "# Se genera la matriz de confusión\n",
        "confusion_matrix(test_labels, predicciones_test)"
      ]
    },
    {
      "cell_type": "code",
      "execution_count": 18,
      "metadata": {
        "colab": {
          "base_uri": "https://localhost:8080/",
          "height": 334
        },
        "id": "NXGGYYNZiYc8",
        "outputId": "c0c69c0d-f751-4d57-df94-9b66a0fac9d7"
      },
      "outputs": [
        {
          "output_type": "stream",
          "name": "stderr",
          "text": [
            "/usr/local/lib/python3.7/dist-packages/sklearn/utils/deprecation.py:87: FutureWarning: Function plot_confusion_matrix is deprecated; Function `plot_confusion_matrix` is deprecated in 1.0 and will be removed in 1.2. Use one of the class methods: ConfusionMatrixDisplay.from_predictions or ConfusionMatrixDisplay.from_estimator.\n",
            "  warnings.warn(msg, category=FutureWarning)\n"
          ]
        },
        {
          "output_type": "display_data",
          "data": {
            "text/plain": [
              "<Figure size 432x288 with 2 Axes>"
            ],
            "image/png": "[encoded data removed]"
          },
          "metadata": {
            "needs_background": "light"
          }
        }
      ],
      "source": [
        "# Se puede visualizar la matriz de confusión\n",
        "plot_confusion_matrix(classifier, test_X, test_labels)  \n",
        "plt.show()"
      ]
    },
    {
      "cell_type": "code",
      "execution_count": 19,
      "metadata": {
        "colab": {
          "base_uri": "https://localhost:8080/"
        },
        "id": "PZIKJk8iiYc8",
        "outputId": "28d82153-f4c7-4254-c514-8b5db8c43b9b"
      },
      "outputs": [
        {
          "output_type": "stream",
          "name": "stdout",
          "text": [
            "              precision    recall  f1-score   support\n",
            "\n",
            " non-suicide       0.92      0.97      0.94     27541\n",
            "     suicide       0.95      0.89      0.92     21384\n",
            "\n",
            "    accuracy                           0.93     48925\n",
            "   macro avg       0.94      0.93      0.93     48925\n",
            "weighted avg       0.94      0.93      0.93     48925\n",
            "\n",
            "Exactitud: 0.9344\n"
          ]
        }
      ],
      "source": [
        "# Mostrar reporte de clasificación\n",
        "print(classification_report(test_labels, predicciones_test))\n",
        "print('Exactitud: %.4f' % accuracy_score(test_labels, predicciones_test))"
      ]
    },
    {
      "cell_type": "markdown",
      "source": [
        "#### Con Pipeline"
      ],
      "metadata": {
        "id": "QQO7z5G1HUzZ"
      }
    },
    {
      "cell_type": "code",
      "source": [
        "categorical_preprocessing = Pipeline([('Token', tokenize())])\n",
        "text_preprocessing = Pipeline([('Vect', CountVectorizer())])\n"
      ],
      "metadata": {
        "id": "Ey2fKYK2Rtpd"
      },
      "execution_count": null,
      "outputs": []
    },
    {
      "cell_type": "code",
      "source": [
        "classifier = LinearSVC(C=1.0, class_weight=None, dual=True, fit_intercept=True,\n",
        "          intercept_scaling=1, loss='squared_hinge', max_iter=1000,\n",
        "          multi_class='ovr', penalty='l2', random_state=None, tol=0.0001,\n",
        "          verbose=0)"
      ],
      "metadata": {
        "id": "bX62LXTsHt-x"
      },
      "execution_count": 20,
      "outputs": []
    },
    {
      "cell_type": "code",
      "source": [
        "from sklearn.preprocessing import FunctionTransformer\n",
        "def pipelinize(function, active=True):\n",
        "    def list_comprehend_a_function(list_or_series, active=True):\n",
        "        if active:\n",
        "            return [function(i) for i in list_or_series]\n",
        "        else: # if it's not active, just pass it right back\n",
        "            return list_or_series\n",
        "    return FunctionTransformer(list_comprehend_a_function, validate=False, kw_args={'active':active})\n",
        "\n",
        "from nltk.tokenize import WhitespaceTokenizer\n",
        "def w_tokenizer(text):\n",
        "    \n",
        "    tokenizer = WhitespaceTokenizer()   \n",
        "# Use tokenize method \n",
        "    tokenized_list = tokenizer.tokenize(text) \n",
        "    return(tokenized_list)\n",
        "from nltk.stem.snowball import SnowballStemmer\n",
        "def stemmer_snowball(text_list):\n",
        "    snowball = SnowballStemmer(language='english')\n",
        "    return_list = []\n",
        "    for i in range(len(text_list)):\n",
        "        return_list.append(snowball.stem(text_list[i]))\n",
        "    return(return_list)\n",
        "\n",
        "import re\n",
        "def preprocessor_final(text):\n",
        "    if isinstance((text), (str)):\n",
        "        text = re.sub('<[^>]*>', '', text)\n",
        "        text = re.sub('[\\W]+', '', text.lower())\n",
        "        return text\n",
        "    if isinstance((text), (list)):\n",
        "        return_list = []\n",
        "        for i in range(len(text)):\n",
        "            temp_text = re.sub('<[^>]*>', '', text[i])\n",
        "            temp_text = re.sub('[\\W]+', '', temp_text.lower())\n",
        "            return_list.append(temp_text)\n",
        "        return(return_list)\n",
        "    else:\n",
        "        pass"
      ],
      "metadata": {
        "id": "WoTiMnHJUXmn"
      },
      "execution_count": 57,
      "outputs": []
    },
    {
      "cell_type": "code",
      "source": [
        "\n",
        "from sklearn.preprocessing import FunctionTransformer\n",
        "transformer = FunctionTransformer(tokenize)"
      ],
      "metadata": {
        "id": "ZAdkgoxnTCYy"
      },
      "execution_count": 34,
      "outputs": []
    },
    {
      "cell_type": "code",
      "source": [
        "#estimators = [('tokenizer', pipelinize(w_tokenizer)), ('stemmer', pipelinize(stemmer_snowball)), ('preprocessor', pipelinize(preprocessor_final))]\n",
        "#pipe = Pipeline(estimators)\n",
        "\n",
        "#pipe.transform(train_text)"
      ],
      "metadata": {
        "id": "VlmmfUHilMu8"
      },
      "execution_count": null,
      "outputs": []
    },
    {
      "cell_type": "code",
      "source": [
        "model = Pipeline([('vect', CountVectorizer()),('tfidf', TfidfTransformer()),('clf', classifier)])"
      ],
      "metadata": {
        "id": "-VWPM1usHQ3_"
      },
      "execution_count": 66,
      "outputs": []
    },
    {
      "cell_type": "code",
      "source": [
        "model = model.fit(train_text, train_labels)"
      ],
      "metadata": {
        "id": "r-fnTMehjIy-"
      },
      "execution_count": 67,
      "outputs": []
    },
    {
      "cell_type": "code",
      "execution_count": 68,
      "metadata": {
        "colab": {
          "base_uri": "https://localhost:8080/"
        },
        "outputId": "31a47d69-70ec-46d4-a741-e460bc4e2b2f",
        "id": "gV0dqKOEIIvx"
      },
      "outputs": [
        {
          "output_type": "stream",
          "name": "stdout",
          "text": [
            "Train accuracy: 97.6651%\n"
          ]
        }
      ],
      "source": [
        "predicciones_train = model.predict(train_text)\n",
        "accuracy = accuracy_score(train_labels, predicciones_train)\n",
        "print(f\"Train accuracy: {accuracy:.4%}\")"
      ]
    },
    {
      "cell_type": "code",
      "execution_count": 69,
      "metadata": {
        "colab": {
          "base_uri": "https://localhost:8080/"
        },
        "outputId": "aa36cdb8-d4f4-4125-f9ba-3e5423554cd8",
        "id": "5c0wJk0DIIvy"
      },
      "outputs": [
        {
          "output_type": "stream",
          "name": "stdout",
          "text": [
            "Test accuracy: 94.4016%\n"
          ]
        }
      ],
      "source": [
        "predicciones_test = model.predict(test_text)\n",
        "accuracy = accuracy_score(test_labels, predicciones_test)\n",
        "print(f\"Test accuracy: {accuracy:.4%}\")"
      ]
    },
    {
      "cell_type": "code",
      "execution_count": 70,
      "metadata": {
        "colab": {
          "base_uri": "https://localhost:8080/"
        },
        "outputId": "01b89bb4-ca5d-4a1a-e382-604ca7aa3ceb",
        "id": "IG1aqo_yIIvz"
      },
      "outputs": [
        {
          "output_type": "execute_result",
          "data": {
            "text/plain": [
              "array([[26410,  1131],\n",
              "       [ 1608, 19776]])"
            ]
          },
          "metadata": {},
          "execution_count": 70
        }
      ],
      "source": [
        "# Se genera la matriz de confusión\n",
        "confusion_matrix(test_labels, predicciones_test)"
      ]
    },
    {
      "cell_type": "code",
      "execution_count": 71,
      "metadata": {
        "colab": {
          "base_uri": "https://localhost:8080/",
          "height": 334
        },
        "outputId": "a4ffcc5b-394b-4d85-eb1b-01abc1331f5f",
        "id": "9OKeHcpqIIvz"
      },
      "outputs": [
        {
          "output_type": "stream",
          "name": "stderr",
          "text": [
            "/usr/local/lib/python3.7/dist-packages/sklearn/utils/deprecation.py:87: FutureWarning: Function plot_confusion_matrix is deprecated; Function `plot_confusion_matrix` is deprecated in 1.0 and will be removed in 1.2. Use one of the class methods: ConfusionMatrixDisplay.from_predictions or ConfusionMatrixDisplay.from_estimator.\n",
            "  warnings.warn(msg, category=FutureWarning)\n"
          ]
        },
        {
          "output_type": "display_data",
          "data": {
            "text/plain": [
              "<Figure size 432x288 with 2 Axes>"
            ],
            "image/png": "[encoded data removed]"
          },
          "metadata": {
            "needs_background": "light"
          }
        }
      ],
      "source": [
        "# Se puede visualizar la matriz de confusión\n",
        "plot_confusion_matrix(model, test_text, test_labels)  \n",
        "plt.show()"
      ]
    },
    {
      "cell_type": "code",
      "execution_count": 72,
      "metadata": {
        "colab": {
          "base_uri": "https://localhost:8080/"
        },
        "outputId": "7474ccb2-697c-4c41-cc74-93fd7177ddda",
        "id": "h7QwGdLJIIv0"
      },
      "outputs": [
        {
          "output_type": "stream",
          "name": "stdout",
          "text": [
            "              precision    recall  f1-score   support\n",
            "\n",
            " non-suicide       0.94      0.96      0.95     27541\n",
            "     suicide       0.95      0.92      0.94     21384\n",
            "\n",
            "    accuracy                           0.94     48925\n",
            "   macro avg       0.94      0.94      0.94     48925\n",
            "weighted avg       0.94      0.94      0.94     48925\n",
            "\n",
            "Exactitud: 0.9440\n"
          ]
        }
      ],
      "source": [
        "# Mostrar reporte de clasificación\n",
        "print(classification_report(test_labels, predicciones_test))\n",
        "print('Exactitud: %.4f' % accuracy_score(test_labels, predicciones_test))"
      ]
    },
    {
      "cell_type": "markdown",
      "source": [
        "#### Exportar el modelo"
      ],
      "metadata": {
        "id": "8P9KVPx0LF0L"
      }
    },
    {
      "cell_type": "code",
      "source": [
        "# Usamos la lbreria joblib\n",
        "filename = 'modelo.joblib'\n",
        "# Se guarda\n",
        "dump(model, filename) "
      ],
      "metadata": {
        "colab": {
          "base_uri": "https://localhost:8080/"
        },
        "id": "Z_wq84GQLITR",
        "outputId": "91517204-2e30-4507-c784-fa105cfe6edb"
      },
      "execution_count": 73,
      "outputs": [
        {
          "output_type": "execute_result",
          "data": {
            "text/plain": [
              "['modelo.joblib']"
            ]
          },
          "metadata": {},
          "execution_count": 73
        }
      ]
    },
    {
      "cell_type": "markdown",
      "metadata": {
        "id": "EWN24ASOiYc8"
      },
      "source": [
        "### Naive Bayers"
      ]
    },
    {
      "cell_type": "markdown",
      "metadata": {
        "id": "mokTzWsdiYc8"
      },
      "source": [
        "#### Con Pipeline"
      ]
    },
    {
      "cell_type": "code",
      "execution_count": null,
      "metadata": {
        "id": "t7_q282fiYc8",
        "outputId": "10b43947-4128-4010-f708-9d640e4973e0"
      },
      "outputs": [
        {
          "data": {
            "text/plain": [
              "Pipeline(steps=[('tfidfvectorizer',\n",
              "                 TfidfVectorizer(binary=True,\n",
              "                                 tokenizer=<function tokenize at 0x7faf001d8e50>)),\n",
              "                ('multinomialnb', MultinomialNB())])"
            ]
          },
          "execution_count": 47,
          "metadata": {},
          "output_type": "execute_result"
        }
      ],
      "source": [
        "# Model building\n",
        "model = make_pipeline(TfidfVectorizer(tokenizer = tokenize, binary=True), MultinomialNB())\n",
        "# Training the model with the training data\n",
        "model.fit(train_text, train_labels)"
      ]
    },
    {
      "cell_type": "code",
      "execution_count": null,
      "metadata": {
        "colab": {
          "base_uri": "https://localhost:8080/"
        },
        "id": "0NBH2NE0iYc8",
        "outputId": "822d5cf6-4b49-4882-ace9-88a6a15d48b9"
      },
      "outputs": [
        {
          "name": "stdout",
          "output_type": "stream",
          "text": [
            "Train accuracy: 92.2160%\n"
          ]
        }
      ],
      "source": [
        "predicciones_train = model.predict(train_text)\n",
        "accuracy = accuracy_score(train_labels, predicciones_train)\n",
        "print(f\"Train accuracy: {accuracy:.4%}\")"
      ]
    },
    {
      "cell_type": "code",
      "execution_count": null,
      "metadata": {
        "colab": {
          "base_uri": "https://localhost:8080/"
        },
        "id": "doTVbycriYc9",
        "outputId": "02a19930-cdf9-4330-a7be-13fbe3338ffd"
      },
      "outputs": [
        {
          "name": "stdout",
          "output_type": "stream",
          "text": [
            "Test accuracy: 90.9351%\n"
          ]
        }
      ],
      "source": [
        "predicciones_test = model.predict(test_text)\n",
        "accuracy = accuracy_score(test_labels, predicciones_test)\n",
        "print(f\"Test accuracy: {accuracy:.4%}\")"
      ]
    },
    {
      "cell_type": "markdown",
      "metadata": {
        "id": "DtLvb5J-iYc9"
      },
      "source": [
        "#### Sin Pipeline"
      ]
    },
    {
      "cell_type": "code",
      "execution_count": null,
      "metadata": {
        "id": "QnS2cm5NiYc9"
      },
      "outputs": [],
      "source": [
        "classifier2 = MultinomialNB()\n",
        "classifier2 = classifier2.fit(train_X, train_labels)"
      ]
    },
    {
      "cell_type": "code",
      "execution_count": null,
      "metadata": {
        "colab": {
          "base_uri": "https://localhost:8080/"
        },
        "id": "_jNf2S88iYc9",
        "outputId": "822d5cf6-4b49-4882-ace9-88a6a15d48b9"
      },
      "outputs": [
        {
          "name": "stdout",
          "output_type": "stream",
          "text": [
            "Train accuracy: 93.2073%\n"
          ]
        }
      ],
      "source": [
        "predicciones_train = classifier2.predict(train_X)\n",
        "accuracy = accuracy_score(train_labels, predicciones_train)\n",
        "print(f\"Train accuracy: {accuracy:.4%}\")"
      ]
    },
    {
      "cell_type": "code",
      "execution_count": null,
      "metadata": {
        "colab": {
          "base_uri": "https://localhost:8080/"
        },
        "id": "GYYylSMdiYc9",
        "outputId": "02a19930-cdf9-4330-a7be-13fbe3338ffd"
      },
      "outputs": [
        {
          "name": "stdout",
          "output_type": "stream",
          "text": [
            "Test accuracy: 92.4619%\n"
          ]
        }
      ],
      "source": [
        "predicciones_test = classifier2.predict(test_X)\n",
        "accuracy = accuracy_score(test_labels, predicciones_test)\n",
        "print(f\"Test accuracy: {accuracy:.4%}\")"
      ]
    },
    {
      "cell_type": "code",
      "execution_count": null,
      "metadata": {
        "colab": {
          "base_uri": "https://localhost:8080/"
        },
        "id": "4GX-Z_mJiYc9",
        "outputId": "514be3d8-a76d-49ba-899b-990d77dfda2b"
      },
      "outputs": [
        {
          "data": {
            "text/plain": [
              "array([[24970,  2571],\n",
              "       [ 1117, 20267]])"
            ]
          },
          "execution_count": 53,
          "metadata": {},
          "output_type": "execute_result"
        }
      ],
      "source": [
        "# Se genera la matriz de confusión\n",
        "confusion_matrix(test_labels, predicciones_test)"
      ]
    },
    {
      "cell_type": "code",
      "execution_count": null,
      "metadata": {
        "colab": {
          "base_uri": "https://localhost:8080/",
          "height": 334
        },
        "id": "TrAU6DXYiYc9",
        "outputId": "70ff39fc-6b82-43f7-b197-d324d0628dc4"
      },
      "outputs": [
        {
          "name": "stderr",
          "output_type": "stream",
          "text": [
            "/Users/mau/opt/anaconda3/lib/python3.9/site-packages/sklearn/utils/deprecation.py:87: FutureWarning: Function plot_confusion_matrix is deprecated; Function `plot_confusion_matrix` is deprecated in 1.0 and will be removed in 1.2. Use one of the class methods: ConfusionMatrixDisplay.from_predictions or ConfusionMatrixDisplay.from_estimator.\n",
            "  warnings.warn(msg, category=FutureWarning)\n"
          ]
        },
        {
          "data": {
            "image/png": "[encoded data removed]",
            "text/plain": [
              "<Figure size 432x288 with 2 Axes>"
            ]
          },
          "metadata": {
            "needs_background": "light"
          },
          "output_type": "display_data"
        }
      ],
      "source": [
        "# Se puede visualizar la matriz de confusión\n",
        "plot_confusion_matrix(classifier, test_X, test_labels)  \n",
        "plt.show()"
      ]
    },
    {
      "cell_type": "code",
      "execution_count": null,
      "metadata": {
        "colab": {
          "base_uri": "https://localhost:8080/"
        },
        "id": "WZDpGqJUiYc9",
        "outputId": "9c45294d-5512-409e-92b1-2888df5a10ff"
      },
      "outputs": [
        {
          "name": "stdout",
          "output_type": "stream",
          "text": [
            "              precision    recall  f1-score   support\n",
            "\n",
            " non-suicide       0.96      0.91      0.93     27541\n",
            "     suicide       0.89      0.95      0.92     21384\n",
            "\n",
            "    accuracy                           0.92     48925\n",
            "   macro avg       0.92      0.93      0.92     48925\n",
            "weighted avg       0.93      0.92      0.92     48925\n",
            "\n",
            "Exactitud: 0.9246\n"
          ]
        }
      ],
      "source": [
        "# Mostrar reporte de clasificación\n",
        "print(classification_report(test_labels, predicciones_test))\n",
        "print('Exactitud: %.4f' % accuracy_score(test_labels, predicciones_test))"
      ]
    },
    {
      "cell_type": "markdown",
      "metadata": {
        "id": "qkU14HV7iYc-"
      },
      "source": [
        "### SDGClassifier"
      ]
    },
    {
      "cell_type": "markdown",
      "metadata": {
        "id": "6Bjz4yQpiYc-"
      },
      "source": [
        "#### Con Pipeline"
      ]
    },
    {
      "cell_type": "code",
      "execution_count": null,
      "metadata": {
        "id": "zcjNrQoFiYc-"
      },
      "outputs": [],
      "source": [
        "text_clf = Pipeline([('vect', CountVectorizer(tokenizer = tokenize, binary=True)),('tfidf', TfidfTransformer()),('clf', SGDClassifier(loss='hinge', penalty='l2',alpha=1e-3, random_state=42,max_iter=5, tol=None)),])"
      ]
    },
    {
      "cell_type": "code",
      "execution_count": null,
      "metadata": {
        "colab": {
          "base_uri": "https://localhost:8080/"
        },
        "id": "BAtekWJbiYc-",
        "outputId": "f1951383-53e9-4cef-f6e2-8d797f0657d0"
      },
      "outputs": [
        {
          "data": {
            "text/plain": [
              "Pipeline(steps=[('vect',\n",
              "                 CountVectorizer(binary=True,\n",
              "                                 tokenizer=<function tokenize at 0x7faf001d8e50>)),\n",
              "                ('tfidf', TfidfTransformer()),\n",
              "                ('clf',\n",
              "                 SGDClassifier(alpha=0.001, max_iter=5, random_state=42,\n",
              "                               tol=None))])"
            ]
          },
          "execution_count": 57,
          "metadata": {},
          "output_type": "execute_result"
        }
      ],
      "source": [
        "text_clf.fit(train_text, train_labels)"
      ]
    },
    {
      "cell_type": "code",
      "execution_count": null,
      "metadata": {
        "colab": {
          "base_uri": "https://localhost:8080/"
        },
        "id": "v5s_zWwsiYc-",
        "outputId": "822d5cf6-4b49-4882-ace9-88a6a15d48b9"
      },
      "outputs": [
        {
          "name": "stdout",
          "output_type": "stream",
          "text": [
            "Train accuracy: 89.3708%\n"
          ]
        }
      ],
      "source": [
        "predicciones_train = text_clf.predict(train_text)\n",
        "accuracy = accuracy_score(train_labels, predicciones_train)\n",
        "print(f\"Train accuracy: {accuracy:.4%}\")"
      ]
    },
    {
      "cell_type": "code",
      "execution_count": null,
      "metadata": {
        "colab": {
          "base_uri": "https://localhost:8080/"
        },
        "id": "BKq5qNvSiYc-",
        "outputId": "02a19930-cdf9-4330-a7be-13fbe3338ffd"
      },
      "outputs": [
        {
          "name": "stdout",
          "output_type": "stream",
          "text": [
            "Test accuracy: 90.0623%\n"
          ]
        }
      ],
      "source": [
        "predicciones_test = text_clf.predict(test_text)\n",
        "accuracy = accuracy_score(test_labels, predicciones_test)\n",
        "print(f\"Test accuracy: {accuracy:.4%}\")"
      ]
    },
    {
      "cell_type": "markdown",
      "metadata": {
        "id": "1S5FN8aTiYc-"
      },
      "source": [
        "#### Sin Pipeline"
      ]
    },
    {
      "cell_type": "code",
      "execution_count": null,
      "metadata": {
        "id": "z-pUhOQNiYc-"
      },
      "outputs": [],
      "source": [
        "classifier3 = SGDClassifier(loss='hinge', penalty='l2',alpha=1e-3, random_state=42,max_iter=5, tol=None)\n",
        "classifier3 = classifier3.fit(train_X, train_labels)"
      ]
    },
    {
      "cell_type": "code",
      "execution_count": null,
      "metadata": {
        "colab": {
          "base_uri": "https://localhost:8080/"
        },
        "id": "GjUZdKJ5iYc-",
        "outputId": "45707a13-f8cc-407c-a4f5-fffecf00065f"
      },
      "outputs": [
        {
          "name": "stdout",
          "output_type": "stream",
          "text": [
            "Train accuracy: 93.3020%\n"
          ]
        }
      ],
      "source": [
        "predicciones_train = classifier3.predict(train_X)\n",
        "accuracy = accuracy_score(train_labels, predicciones_train)\n",
        "print(f\"Train accuracy: {accuracy:.4%}\")"
      ]
    },
    {
      "cell_type": "code",
      "execution_count": null,
      "metadata": {
        "colab": {
          "base_uri": "https://localhost:8080/"
        },
        "id": "xcSlpZktiYc_",
        "outputId": "a954feb4-2039-4ef1-a19c-708d34b4352f"
      },
      "outputs": [
        {
          "name": "stdout",
          "output_type": "stream",
          "text": [
            "Test accuracy: 92.8973%\n"
          ]
        }
      ],
      "source": [
        "predicciones_test = classifier3.predict(test_X)\n",
        "accuracy = accuracy_score(test_labels, predicciones_test)\n",
        "print(f\"Test accuracy: {accuracy:.4%}\")"
      ]
    },
    {
      "cell_type": "code",
      "execution_count": null,
      "metadata": {
        "colab": {
          "base_uri": "https://localhost:8080/"
        },
        "id": "hMYfgtO4iYc_",
        "outputId": "357ccfa2-d78b-4ff3-9ad6-4a4b246d87c8"
      },
      "outputs": [
        {
          "data": {
            "text/plain": [
              "array([[26345,  1196],\n",
              "       [ 2279, 19105]])"
            ]
          },
          "execution_count": 63,
          "metadata": {},
          "output_type": "execute_result"
        }
      ],
      "source": [
        "# Se genera la matriz de confusión\n",
        "confusion_matrix(test_labels, predicciones_test)"
      ]
    },
    {
      "cell_type": "code",
      "execution_count": null,
      "metadata": {
        "colab": {
          "base_uri": "https://localhost:8080/",
          "height": 334
        },
        "id": "3LNXp1cjiYc_",
        "outputId": "cf8c1e33-753d-481f-90d7-37427c2e7f92"
      },
      "outputs": [
        {
          "name": "stderr",
          "output_type": "stream",
          "text": [
            "/Users/mau/opt/anaconda3/lib/python3.9/site-packages/sklearn/utils/deprecation.py:87: FutureWarning: Function plot_confusion_matrix is deprecated; Function `plot_confusion_matrix` is deprecated in 1.0 and will be removed in 1.2. Use one of the class methods: ConfusionMatrixDisplay.from_predictions or ConfusionMatrixDisplay.from_estimator.\n",
            "  warnings.warn(msg, category=FutureWarning)\n"
          ]
        },
        {
          "data": {
            "image/png": "[encoded data removed]",
            "text/plain": [
              "<Figure size 432x288 with 2 Axes>"
            ]
          },
          "metadata": {
            "needs_background": "light"
          },
          "output_type": "display_data"
        }
      ],
      "source": [
        "# Se puede visualizar la matriz de confusión\n",
        "plot_confusion_matrix(classifier3, test_X, test_labels)  \n",
        "plt.show()"
      ]
    },
    {
      "cell_type": "code",
      "execution_count": null,
      "metadata": {
        "colab": {
          "base_uri": "https://localhost:8080/"
        },
        "id": "qYy7KS3SiYc_",
        "outputId": "a207fca3-d566-4499-d2d8-364ec69d5ad9"
      },
      "outputs": [
        {
          "name": "stdout",
          "output_type": "stream",
          "text": [
            "              precision    recall  f1-score   support\n",
            "\n",
            " non-suicide       0.92      0.96      0.94     27541\n",
            "     suicide       0.94      0.89      0.92     21384\n",
            "\n",
            "    accuracy                           0.93     48925\n",
            "   macro avg       0.93      0.92      0.93     48925\n",
            "weighted avg       0.93      0.93      0.93     48925\n",
            "\n",
            "Exactitud: 0.9290\n"
          ]
        }
      ],
      "source": [
        "# Mostrar reporte de clasificación\n",
        "print(classification_report(test_labels, predicciones_test))\n",
        "print('Exactitud: %.4f' % accuracy_score(test_labels, predicciones_test))"
      ]
    }
  ],
  "metadata": {
    "colab": {
      "collapsed_sections": [
        "l22ibw4sdzHz",
        "g5Sm7FBBe20d",
        "FoFxlZcbfScI",
        "Cj9borE4f6sX"
      ],
      "provenance": []
    },
    "kernelspec": {
      "display_name": "Python 3.9.12 ('base')",
      "language": "python",
      "name": "python3"
    },
    "language_info": {
      "codemirror_mode": {
        "name": "ipython",
        "version": 3
      },
      "file_extension": ".py",
      "mimetype": "text/x-python",
      "name": "python",
      "nbconvert_exporter": "python",
      "pygments_lexer": "ipython3",
      "version": "3.9.12"
    },
    "vscode": {
      "interpreter": {
        "hash": "5faf49b4097dd0f3767549b8177ceb92c6363dc7e70760be3d993f0933fb8b02"
      }
    }
  },
  "nbformat": 4,
  "nbformat_minor": 0
}